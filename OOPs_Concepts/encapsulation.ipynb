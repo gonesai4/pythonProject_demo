{
 "cells": [
  {
   "cell_type": "markdown",
   "metadata": {},
   "source": [
    "Encapsulation is a way to restrict the direct access to some components of an object, so users cannot access state values for all of the variables of a particular object. Encapsulation can be used to hide both data members and data functions or methods associated with an instantiated class or object."
   ]
  },
  {
   "cell_type": "code",
   "execution_count": 2,
   "metadata": {},
   "outputs": [
    {
     "data": {
      "text/plain": [
       "'RNStech'"
      ]
     },
     "execution_count": 2,
     "metadata": {},
     "output_type": "execute_result"
    }
   ],
   "source": [
    "# public, protected, and private variables or access modifiers\n",
    "\n",
    "# Public Variables\n",
    "class Person:\n",
    "    def __init__(self, name, age) -> None:\n",
    "        self.name=name  # public variable\n",
    "        self.age=age    # public variable\n",
    "\n",
    "def get_name(person):\n",
    "    return person.name\n",
    "\n",
    "person=Person(\"RNStech\", 12)\n",
    "get_name(person) \n",
    "  "
   ]
  },
  {
   "cell_type": "code",
   "execution_count": 3,
   "metadata": {},
   "outputs": [
    {
     "data": {
      "text/plain": [
       "['__class__',\n",
       " '__delattr__',\n",
       " '__dict__',\n",
       " '__dir__',\n",
       " '__doc__',\n",
       " '__eq__',\n",
       " '__format__',\n",
       " '__ge__',\n",
       " '__getattribute__',\n",
       " '__getstate__',\n",
       " '__gt__',\n",
       " '__hash__',\n",
       " '__init__',\n",
       " '__init_subclass__',\n",
       " '__le__',\n",
       " '__lt__',\n",
       " '__module__',\n",
       " '__ne__',\n",
       " '__new__',\n",
       " '__reduce__',\n",
       " '__reduce_ex__',\n",
       " '__repr__',\n",
       " '__setattr__',\n",
       " '__sizeof__',\n",
       " '__str__',\n",
       " '__subclasshook__',\n",
       " '__weakref__',\n",
       " 'age',\n",
       " 'name']"
      ]
     },
     "execution_count": 3,
     "metadata": {},
     "output_type": "execute_result"
    }
   ],
   "source": [
    "dir(person)"
   ]
  },
  {
   "cell_type": "code",
   "execution_count": 9,
   "metadata": {},
   "outputs": [
    {
     "data": {
      "text/plain": [
       "'Male'"
      ]
     },
     "execution_count": 9,
     "metadata": {},
     "output_type": "execute_result"
    }
   ],
   "source": [
    "# Private Variables\n",
    "\n",
    "class Person:\n",
    "    def __init__(self, name, age, gender) -> None:\n",
    "        self.__name=name  # private variable\n",
    "        self.__age=age    # private variable\n",
    "        self.gender=gender # public variable\n",
    "\n",
    "def get_gender(person):\n",
    "    return person.gender\n",
    "\n",
    "person=Person(\"RNStech\", 12, \"Male\")\n",
    "get_gender(person) \n",
    "  "
   ]
  },
  {
   "cell_type": "code",
   "execution_count": 8,
   "metadata": {},
   "outputs": [
    {
     "data": {
      "text/plain": [
       "['_Person__age',\n",
       " '_Person__name',\n",
       " '__class__',\n",
       " '__delattr__',\n",
       " '__dict__',\n",
       " '__dir__',\n",
       " '__doc__',\n",
       " '__eq__',\n",
       " '__format__',\n",
       " '__ge__',\n",
       " '__getattribute__',\n",
       " '__getstate__',\n",
       " '__gt__',\n",
       " '__hash__',\n",
       " '__init__',\n",
       " '__init_subclass__',\n",
       " '__le__',\n",
       " '__lt__',\n",
       " '__module__',\n",
       " '__ne__',\n",
       " '__new__',\n",
       " '__reduce__',\n",
       " '__reduce_ex__',\n",
       " '__repr__',\n",
       " '__setattr__',\n",
       " '__sizeof__',\n",
       " '__str__',\n",
       " '__subclasshook__',\n",
       " '__weakref__',\n",
       " 'gender']"
      ]
     },
     "execution_count": 8,
     "metadata": {},
     "output_type": "execute_result"
    }
   ],
   "source": [
    "dir(person)"
   ]
  },
  {
   "cell_type": "code",
   "execution_count": 13,
   "metadata": {},
   "outputs": [
    {
     "name": "stdout",
     "output_type": "stream",
     "text": [
      "RNStech\n",
      "Rnstech1\n"
     ]
    }
   ],
   "source": [
    "# Protected variables\n",
    "\n",
    "class Person:\n",
    "    def __init__(self, name, age, gender) -> None:\n",
    "        self._name=name  # protected variable\n",
    "        self._age=age    # protected variable\n",
    "        self.gender=gender # public variable\n",
    "\n",
    "def get_name(person):\n",
    "    print(person._name)\n",
    "\n",
    "class Employee(Person):\n",
    "    def __init__(self, name, age, gender) -> None:\n",
    "        super().__init__(name, age, gender)\n",
    "\n",
    "employee=Employee(\"RNStech\", 12, \"Male\")\n",
    "print(employee._name) \n",
    "\n",
    "person=Person(\"Rnstech1\", 24, \"Male\") \n",
    "get_name(person) "
   ]
  },
  {
   "cell_type": "code",
   "execution_count": 14,
   "metadata": {},
   "outputs": [
    {
     "data": {
      "text/plain": [
       "['__class__',\n",
       " '__delattr__',\n",
       " '__dict__',\n",
       " '__dir__',\n",
       " '__doc__',\n",
       " '__eq__',\n",
       " '__format__',\n",
       " '__ge__',\n",
       " '__getattribute__',\n",
       " '__getstate__',\n",
       " '__gt__',\n",
       " '__hash__',\n",
       " '__init__',\n",
       " '__init_subclass__',\n",
       " '__le__',\n",
       " '__lt__',\n",
       " '__module__',\n",
       " '__ne__',\n",
       " '__new__',\n",
       " '__reduce__',\n",
       " '__reduce_ex__',\n",
       " '__repr__',\n",
       " '__setattr__',\n",
       " '__sizeof__',\n",
       " '__str__',\n",
       " '__subclasshook__',\n",
       " '__weakref__',\n",
       " '_age',\n",
       " '_name',\n",
       " 'gender']"
      ]
     },
     "execution_count": 14,
     "metadata": {},
     "output_type": "execute_result"
    }
   ],
   "source": [
    "dir(person)"
   ]
  },
  {
   "cell_type": "code",
   "execution_count": 18,
   "metadata": {},
   "outputs": [
    {
     "name": "stdout",
     "output_type": "stream",
     "text": [
      "24\n",
      "Rnstech1\n",
      "15\n",
      "Age can not be negative\n"
     ]
    }
   ],
   "source": [
    "# Defining getters and setters\n",
    "\n",
    "class Person:\n",
    "    def __init__(self, name, age, gender) -> None:\n",
    "        self.__name=name  # private variable\n",
    "        self.__age=age    # private variable\n",
    "        self.gender=gender # public variable\n",
    "\n",
    "    # getter\n",
    "    def get_name(self):\n",
    "        return self.__name\n",
    "\n",
    "    # setter\n",
    "    def set_name(self, name):\n",
    "        self.__name=name \n",
    "    \n",
    "    # getter\n",
    "    def get_age(self):\n",
    "        return self.__age\n",
    "\n",
    "    # setter\n",
    "    def set_age(self, age):\n",
    "        if age > 0:\n",
    "            self.__age=age\n",
    "        else:\n",
    "            print(\"Age can not be negative\") \n",
    "    \n",
    "person=Person(\"Rnstech1\", 24, \"Male\") \n",
    "print(person.get_age())\n",
    "print(person.get_name())\n",
    "\n",
    "person.set_age(15)\n",
    "print(person.get_age())\n",
    "\n",
    "person.set_age(-15)\n",
    "\n"
   ]
  }
 ],
 "metadata": {
  "kernelspec": {
   "display_name": "Python 3",
   "language": "python",
   "name": "python3"
  },
  "language_info": {
   "codemirror_mode": {
    "name": "ipython",
    "version": 3
   },
   "file_extension": ".py",
   "mimetype": "text/x-python",
   "name": "python",
   "nbconvert_exporter": "python",
   "pygments_lexer": "ipython3",
   "version": "3.12.4"
  }
 },
 "nbformat": 4,
 "nbformat_minor": 2
}
