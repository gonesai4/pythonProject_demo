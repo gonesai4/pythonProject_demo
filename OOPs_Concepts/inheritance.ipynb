{
 "cells": [
  {
   "cell_type": "markdown",
   "metadata": {},
   "source": [
    "Inheritance: inherit attributes and methods from another class. Single Inheritance, Multiple Inheritance"
   ]
  },
  {
   "cell_type": "code",
   "execution_count": 2,
   "metadata": {},
   "outputs": [
    {
     "name": "stdout",
     "output_type": "stream",
     "text": [
      "The person will drive the petrol Car\n",
      "BMW supports self driving : True\n",
      "The person will drive the electric Car\n"
     ]
    }
   ],
   "source": [
    "class Car:\n",
    "    def __init__(self, windows, doors, enginetype) -> None:\n",
    "        self.windows=windows\n",
    "        self.doors=doors\n",
    "        self.enginetype=enginetype\n",
    "        \n",
    "    def drive(self):\n",
    "        print(f\"The person will drive the {self.enginetype} Car\")\n",
    "\n",
    "car1=Car(4,5, \"petrol\")\n",
    "car1.drive()\n",
    "\n",
    "class Bmw(Car):\n",
    "    def __init__(self, windows, doors, enginetype, is_selfdriving) -> None:\n",
    "        super().__init__(windows, doors, enginetype)\n",
    "        self.is_selfdriving=is_selfdriving\n",
    "        \n",
    "    def selfdriving(self):\n",
    "        print(f\"BMW supports self driving : {self.is_selfdriving}\")\n",
    "\n",
    "bmw1=Bmw(4,5,\"electric\", True)\n",
    "bmw1.selfdriving()\n",
    "bmw1.drive()"
   ]
  },
  {
   "cell_type": "code",
   "execution_count": 3,
   "metadata": {},
   "outputs": [
    {
     "name": "stdout",
     "output_type": "stream",
     "text": [
      "Puppy say woof\n"
     ]
    }
   ],
   "source": [
    "# Multiple Inheritance\n",
    "\n",
    "# Base Class 1\n",
    "class Animal:\n",
    "    def __init__(self, name) -> None:\n",
    "        self.name=name\n",
    "    \n",
    "    def speak(self):\n",
    "        print(\"Subclass must implement this method\")\n",
    "        \n",
    "# Base Class 2\n",
    "class Pet:\n",
    "    def __init__(self, owner) -> None:\n",
    "        self.owner=owner\n",
    "\n",
    "# Derived/Child class\n",
    "class Dog(Animal, Pet):\n",
    "    def __init__(self, name, owner) -> None:\n",
    "        Animal.__init__(self, name)\n",
    "        Pet.__init__(self, owner)\n",
    "        \n",
    "    def speak(self):\n",
    "        return f\"{self.name} say woof\"\n",
    "    \n",
    "dog=Dog(\"Puppy\", \"ABc\")\n",
    "print(dog.speak())\n"
   ]
  }
 ],
 "metadata": {
  "kernelspec": {
   "display_name": ".venv",
   "language": "python",
   "name": "python3"
  },
  "language_info": {
   "codemirror_mode": {
    "name": "ipython",
    "version": 3
   },
   "file_extension": ".py",
   "mimetype": "text/x-python",
   "name": "python",
   "nbconvert_exporter": "python",
   "pygments_lexer": "ipython3",
   "version": "3.12.4"
  }
 },
 "nbformat": 4,
 "nbformat_minor": 2
}
